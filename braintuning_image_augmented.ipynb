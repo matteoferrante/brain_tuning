{
 "cells": [
  {
   "cell_type": "markdown",
   "metadata": {},
   "source": [
    "## Train and test the final BrainTuning Contrastive Model\n",
    "In this notebook I'll explore the impact of using data augmentations"
   ]
  },
  {
   "cell_type": "code",
   "execution_count": 57,
   "metadata": {},
   "outputs": [],
   "source": [
    "import numpy as np\n",
    "import nibabel as nib\n",
    "import nilearn \n",
    "import matplotlib.pyplot as plt\n",
    "import os\n",
    "from os.path import join as opj\n",
    "import pandas as pd\n",
    "import seaborn as sns\n",
    "import glob\n",
    "from nilearn import plotting\n",
    "from nilearn.image import *\n",
    "import tqdm\n",
    "from PIL import Image\n",
    "from sklearn.model_selection import train_test_split\n",
    "from nilearn.plotting import plot_stat_map\n",
    "from nilearn.image import mean_img\n",
    "from nilearn.plotting import plot_img, plot_epi\n",
    "from nilearn.maskers import NiftiMasker\n",
    "from sklearn.preprocessing import StandardScaler\n",
    "import wandb\n",
    "import pickle\n",
    "from torch.utils.data import Dataset, DataLoader\n",
    "from dataset import fMRI_Dataset, fMRI_Augmentation_Dataset\n",
    "import torch\n",
    "from torch import nn\n",
    "from pytorch_lightning.callbacks import EarlyStopping,ModelCheckpoint\n",
    "\n",
    "from pytorch_lightning.loggers import WandbLogger\n",
    "from network import Encoder, ContrastiveModel\n",
    "import torch\n",
    "import torch.nn as nn\n",
    "import pytorch_lightning as pl"
   ]
  },
  {
   "cell_type": "code",
   "execution_count": 58,
   "metadata": {},
   "outputs": [
    {
     "name": "stderr",
     "output_type": "stream",
     "text": [
      "\u001b[34m\u001b[1mwandb\u001b[0m: \u001b[33mWARNING\u001b[0m Calling wandb.login() after wandb.init() has no effect.\n"
     ]
    },
    {
     "data": {
      "text/html": [
       "Finishing last run (ID:9wzgyyci) before initializing another..."
      ],
      "text/plain": [
       "<IPython.core.display.HTML object>"
      ]
     },
     "metadata": {},
     "output_type": "display_data"
    },
    {
     "data": {
      "text/html": [
       "W&B sync reduced upload amount by 7.8%"
      ],
      "text/plain": [
       "<IPython.core.display.HTML object>"
      ]
     },
     "metadata": {},
     "output_type": "display_data"
    },
    {
     "data": {
      "text/html": [
       "<style>\n",
       "    table.wandb td:nth-child(1) { padding: 0 10px; text-align: left ; width: auto;} td:nth-child(2) {text-align: left ; width: 100%}\n",
       "    .wandb-row { display: flex; flex-direction: row; flex-wrap: wrap; justify-content: flex-start; width: 100% }\n",
       "    .wandb-col { display: flex; flex-direction: column; flex-basis: 100%; flex: 1; padding: 10px; }\n",
       "    </style>\n",
       "<div class=\"wandb-row\"><div class=\"wandb-col\"><h3>Run history:</h3><br/><table class=\"wandb\"><tr><td>epoch</td><td>▁▂▂▂▃▃▄▅▅▆▆▇▇▁▂▂▃▃▄▅▅▆▆▇▇█▁▂▂▃▃▄▅▅▆▆▆▇▇█</td></tr><tr><td>subject_1_identification_accuracy</td><td>▁██</td></tr><tr><td>subject_1_top1_acc</td><td>██▁</td></tr><tr><td>subject_1_top5_acc</td><td>▁█▃</td></tr><tr><td>subject_2_identification_accuracy</td><td>▁█▇</td></tr><tr><td>subject_2_top1_acc</td><td>█▂▁</td></tr><tr><td>subject_2_top5_acc</td><td>█▁▂</td></tr><tr><td>subject_3_identification_accuracy</td><td>▁█▄</td></tr><tr><td>subject_3_top1_acc</td><td>▁█▁</td></tr><tr><td>subject_3_top5_acc</td><td>▁█▇</td></tr><tr><td>subject_4_identification_accuracy</td><td>▁█▅</td></tr><tr><td>subject_4_top1_acc</td><td>▁█▄</td></tr><tr><td>subject_4_top5_acc</td><td>▁█▆</td></tr><tr><td>train_loss_epoch</td><td>█▆▅▄▄▃▃▂▂▂▁▁█▆▆▅▄▄▃▃▃▂▂▂▂█▆▆▅▄▄▃▃▃▂▂▂▂</td></tr><tr><td>train_loss_step</td><td>▇▇▅▅▄▃▁▂█▇▆▅▄▄▃▃█▇▆▅▄▄▂▃▃</td></tr><tr><td>trainer/global_step</td><td>▁▁▂▂▃▃▄▅▅▆▆▇▇▁▂▂▃▃▄▄▅▅▆▆▇▇▁▂▂▃▃▄▅▅▅▆▆▇▇█</td></tr><tr><td>val_cosine_similarity</td><td>▂▄▅▆▆▇▇▇▇▇▇▇▁▄▅▆▇▇███████▁▄▆▇▇████████</td></tr><tr><td>val_loss</td><td>▇▅▄▃▃▂▂▂▂▂▂▂█▅▄▃▂▂▂▁▁▁▁▁▁█▅▄▃▂▂▁▁▁▁▁▁▁</td></tr><tr><td>val_mse_loss</td><td>▇▅▄▃▃▂▂▂▂▂▂▂█▅▄▃▂▂▁▁▁▁▁▁▁█▅▃▂▂▁▁▁▁▁▁▁▁</td></tr></table><br/></div><div class=\"wandb-col\"><h3>Run summary:</h3><br/><table class=\"wandb\"><tr><td>epoch</td><td>12</td></tr><tr><td>subject_1_identification_accuracy</td><td>0.90428</td></tr><tr><td>subject_1_top1_acc</td><td>0.04056</td></tr><tr><td>subject_1_top5_acc</td><td>0.13815</td></tr><tr><td>subject_2_identification_accuracy</td><td>0.86884</td></tr><tr><td>subject_2_top1_acc</td><td>0.02155</td></tr><tr><td>subject_2_top5_acc</td><td>0.09252</td></tr><tr><td>subject_3_identification_accuracy</td><td>0.86124</td></tr><tr><td>subject_3_top1_acc</td><td>0.02408</td></tr><tr><td>subject_3_top5_acc</td><td>0.10266</td></tr><tr><td>subject_4_identification_accuracy</td><td>0.84262</td></tr><tr><td>subject_4_top1_acc</td><td>0.02355</td></tr><tr><td>subject_4_top5_acc</td><td>0.1242</td></tr><tr><td>train_loss_epoch</td><td>3.25531</td></tr><tr><td>train_loss_step</td><td>3.32404</td></tr><tr><td>trainer/global_step</td><td>454</td></tr><tr><td>val_cosine_similarity</td><td>0.17641</td></tr><tr><td>val_loss</td><td>4.97571</td></tr><tr><td>val_mse_loss</td><td>1.61115</td></tr></table><br/></div></div>"
      ],
      "text/plain": [
       "<IPython.core.display.HTML object>"
      ]
     },
     "metadata": {},
     "output_type": "display_data"
    },
    {
     "data": {
      "text/html": [
       " View run <strong style=\"color:#cdcd00\">intangible-menace-14</strong> at: <a href='https://wandb.ai/matteoferrante/BrainTuning/runs/9wzgyyci' target=\"_blank\">https://wandb.ai/matteoferrante/BrainTuning/runs/9wzgyyci</a><br/> View project at: <a href='https://wandb.ai/matteoferrante/BrainTuning' target=\"_blank\">https://wandb.ai/matteoferrante/BrainTuning</a><br/>Synced 6 W&B file(s), 12 media file(s), 679 artifact file(s) and 0 other file(s)"
      ],
      "text/plain": [
       "<IPython.core.display.HTML object>"
      ]
     },
     "metadata": {},
     "output_type": "display_data"
    },
    {
     "data": {
      "text/html": [
       "Find logs at: <code>./wandb/run-20241031_140439-9wzgyyci/logs</code>"
      ],
      "text/plain": [
       "<IPython.core.display.HTML object>"
      ]
     },
     "metadata": {},
     "output_type": "display_data"
    },
    {
     "data": {
      "text/html": [
       "wandb version 0.18.5 is available!  To upgrade, please run:\n",
       " $ pip install wandb --upgrade"
      ],
      "text/plain": [
       "<IPython.core.display.HTML object>"
      ]
     },
     "metadata": {},
     "output_type": "display_data"
    },
    {
     "data": {
      "text/html": [
       "The new W&B backend becomes opt-out in version 0.18.0; try it out with `wandb.require(\"core\")`! See https://wandb.me/wandb-core for more information."
      ],
      "text/plain": [
       "<IPython.core.display.HTML object>"
      ]
     },
     "metadata": {},
     "output_type": "display_data"
    },
    {
     "data": {
      "text/html": [
       "Successfully finished last run (ID:9wzgyyci). Initializing new run:<br/>"
      ],
      "text/plain": [
       "<IPython.core.display.HTML object>"
      ]
     },
     "metadata": {},
     "output_type": "display_data"
    },
    {
     "data": {
      "text/html": [
       "Tracking run with wandb version 0.17.9"
      ],
      "text/plain": [
       "<IPython.core.display.HTML object>"
      ]
     },
     "metadata": {},
     "output_type": "display_data"
    },
    {
     "data": {
      "text/html": [
       "Run data is saved locally in <code>/home/matteo/brain_tuning/wandb/run-20241031_142137-unm79pet</code>"
      ],
      "text/plain": [
       "<IPython.core.display.HTML object>"
      ]
     },
     "metadata": {},
     "output_type": "display_data"
    },
    {
     "data": {
      "text/html": [
       "Syncing run <strong><a href='https://wandb.ai/matteoferrante/BrainTuning/runs/unm79pet' target=\"_blank\">pale-magic-16</a></strong> to <a href='https://wandb.ai/matteoferrante/BrainTuning' target=\"_blank\">Weights & Biases</a> (<a href='https://wandb.me/run' target=\"_blank\">docs</a>)<br/>"
      ],
      "text/plain": [
       "<IPython.core.display.HTML object>"
      ]
     },
     "metadata": {},
     "output_type": "display_data"
    },
    {
     "data": {
      "text/html": [
       " View project at <a href='https://wandb.ai/matteoferrante/BrainTuning' target=\"_blank\">https://wandb.ai/matteoferrante/BrainTuning</a>"
      ],
      "text/plain": [
       "<IPython.core.display.HTML object>"
      ]
     },
     "metadata": {},
     "output_type": "display_data"
    },
    {
     "data": {
      "text/html": [
       " View run at <a href='https://wandb.ai/matteoferrante/BrainTuning/runs/unm79pet' target=\"_blank\">https://wandb.ai/matteoferrante/BrainTuning/runs/unm79pet</a>"
      ],
      "text/plain": [
       "<IPython.core.display.HTML object>"
      ]
     },
     "metadata": {},
     "output_type": "display_data"
    },
    {
     "data": {
      "text/html": [
       "<button onClick=\"this.nextSibling.style.display='block';this.style.display='none';\">Display W&B run</button><iframe src='https://wandb.ai/matteoferrante/BrainTuning/runs/unm79pet?jupyter=true' style='border:none;width:100%;height:420px;display:none;'></iframe>"
      ],
      "text/plain": [
       "<wandb.sdk.wandb_run.Run at 0x74e2c01968e0>"
      ]
     },
     "execution_count": 58,
     "metadata": {},
     "output_type": "execute_result"
    }
   ],
   "source": [
    "wandb.login()\n",
    "wandb.init(project=\"BrainTuning\",config={\"model\":\"best_image_model\", \"augmentations\":True})"
   ]
  },
  {
   "cell_type": "code",
   "execution_count": 59,
   "metadata": {},
   "outputs": [
    {
     "name": "stderr",
     "output_type": "stream",
     "text": [
      "  0%|          | 0/4 [00:00<?, ?it/s]"
     ]
    },
    {
     "name": "stdout",
     "output_type": "stream",
     "text": [
      "Using augmentations\n"
     ]
    },
    {
     "name": "stderr",
     "output_type": "stream",
     "text": [
      " 25%|██▌       | 1/4 [00:03<00:09,  3.10s/it]"
     ]
    },
    {
     "name": "stdout",
     "output_type": "stream",
     "text": [
      "Using augmentations\n"
     ]
    },
    {
     "name": "stderr",
     "output_type": "stream",
     "text": [
      " 50%|█████     | 2/4 [00:05<00:05,  2.95s/it]"
     ]
    },
    {
     "name": "stdout",
     "output_type": "stream",
     "text": [
      "Using augmentations\n"
     ]
    },
    {
     "name": "stderr",
     "output_type": "stream",
     "text": [
      " 75%|███████▌  | 3/4 [00:08<00:02,  2.91s/it]"
     ]
    },
    {
     "name": "stdout",
     "output_type": "stream",
     "text": [
      "Using augmentations\n"
     ]
    },
    {
     "name": "stderr",
     "output_type": "stream",
     "text": [
      "100%|██████████| 4/4 [00:10<00:00,  2.59s/it]\n"
     ]
    }
   ],
   "source": [
    "## load the data\n",
    "\n",
    "train_datasets=[]\n",
    "val_datasets=[]\n",
    "test_datasets=[]\n",
    "\n",
    "aumentation_N = 500\n",
    "\n",
    "for subj in tqdm.tqdm([\"CSI1\",\"CSI2\",\"CSI3\",\"CSI4\"]):\n",
    "\n",
    "    subj_id = int(subj.split(\"CSI\")[1])\n",
    "\n",
    "    data_path =  f\"/home/matteo/storage/brain_tuning/{subj}\"\n",
    "\n",
    "    train_fmri = np.load(opj(data_path, \"train_fmri_top.npy\"))\n",
    "    val_fmri = np.load(opj(data_path, \"val_fmri_top.npy\"))\n",
    "    test_fmri = np.load(opj(data_path, \"test_fmri_top.npy\"))\n",
    "\n",
    "    ##load the images\n",
    "    img_train = np.load(opj(data_path, \"img_train.npy\"),allow_pickle=True)\n",
    "    img_val = np.load(opj(data_path, \"img_val.npy\"),allow_pickle=True)\n",
    "    img_test = np.load(opj(data_path, \"img_test.npy\"),allow_pickle=True)\n",
    "\n",
    "    ## load the features\n",
    "    train_features = np.load(opj(data_path, \"train_image_features.npy\"))\n",
    "    val_features = np.load(opj(data_path, \"val_image_features.npy\"))\n",
    "    test_features = np.load(opj(data_path, \"test_image_features.npy\"))\n",
    "\n",
    "    print(\"Using augmentations\")\n",
    "    ## load the augmentations\n",
    "    train_augmentations = np.load(opj(data_path, \"augmented_brain.npy\"))[:aumentation_N]\n",
    "    \n",
    "    # add a small noise to the augmentations\n",
    "    train_augmentations = train_augmentations + np.random.normal(0,0.8,train_augmentations.shape)\n",
    "\n",
    "    ## force the augmentations to have the same mean and std as the original fmri\n",
    "    train_augmentations = train_augmentations - train_augmentations.mean(0)\n",
    "    train_augmentations = train_augmentations/train_augmentations.std(0)\n",
    "    train_augmentations = train_augmentations*train_fmri.std(0)\n",
    "    train_augmentations = train_augmentations + train_fmri.mean(0)\n",
    "\n",
    "    \n",
    "    #set dtype to float32\n",
    "    train_augmentations = train_augmentations.astype(np.float32)\n",
    "\n",
    "    #load the augmented features\n",
    "    train_augmented_features = np.load(\"/home/matteo/storage/brain_tuning/clean_augment_image_features.npy\")[:aumentation_N]\n",
    "\n",
    "    #concatenate the augmented and the original features\n",
    "    train_fmri = np.concatenate([train_augmentations,train_fmri])\n",
    "    train_features = np.concatenate([train_augmented_features,train_features])\n",
    "\n",
    "    ## create the dataset\n",
    "    train_dataset = fMRI_Augmentation_Dataset(train_fmri,train_features,subj_id) #no imags here, just features\n",
    "    val_dataset = fMRI_Dataset(val_fmri,img_val,val_features,subj_id)\n",
    "    test_dataset = fMRI_Dataset(test_fmri,img_test,test_features,subj_id)\n",
    "\n",
    "    ## append the datasets\n",
    "    train_datasets.append(train_dataset)\n",
    "    val_datasets.append(val_dataset)\n",
    "    test_datasets.append(test_dataset)\n",
    "\n",
    "\n",
    "\n"
   ]
  },
  {
   "cell_type": "code",
   "execution_count": 60,
   "metadata": {},
   "outputs": [],
   "source": [
    "# train_fmri.std()"
   ]
  },
  {
   "cell_type": "code",
   "execution_count": 61,
   "metadata": {},
   "outputs": [],
   "source": [
    "## Concatenate the datasets\n",
    "train_dataset = torch.utils.data.ConcatDataset(train_datasets)\n",
    "val_dataset = torch.utils.data.ConcatDataset(val_datasets)\n",
    "test_dataset = torch.utils.data.ConcatDataset(test_datasets)\n"
   ]
  },
  {
   "cell_type": "code",
   "execution_count": 62,
   "metadata": {},
   "outputs": [],
   "source": [
    "BATCH_SIZE = 512\n",
    "train_loader = DataLoader(train_dataset, batch_size=BATCH_SIZE, shuffle=True)\n",
    "val_loader = DataLoader(val_dataset, batch_size=BATCH_SIZE, shuffle=False)\n",
    "test_loader = DataLoader(test_dataset, batch_size=BATCH_SIZE, shuffle=False)"
   ]
  },
  {
   "cell_type": "code",
   "execution_count": 63,
   "metadata": {},
   "outputs": [],
   "source": [
    "## optimal parameter obtained from the hyperparameter search\n",
    "\n",
    "act_fn = nn.Identity\n",
    "base_channel_size = [2048]\n",
    "hidden_dims = [1024]\n",
    "latent_dim = 768\n",
    "\n",
    "loss_type = \"contrastive\"\n",
    "lr = 5e-5\n",
    "temperature = 0.1\n",
    "wd = 1e-5\n",
    "alpha = 0.8"
   ]
  },
  {
   "cell_type": "code",
   "execution_count": 64,
   "metadata": {},
   "outputs": [
    {
     "name": "stderr",
     "output_type": "stream",
     "text": [
      "/home/matteo/anaconda3/envs/borg/lib/python3.8/site-packages/torch/nn/modules/lazy.py:181: UserWarning: Lazy modules are a new feature under heavy development so changes to the API or functionality can happen at any moment.\n",
      "  warnings.warn('Lazy modules are a new feature under heavy development '\n",
      "/home/matteo/anaconda3/envs/borg/lib/python3.8/site-packages/lightning_fabric/plugins/environments/slurm.py:204: The `srun` command is available on your system but is not used. HINT: If your intention is to run Lightning on SLURM, prepend your python command with `srun` like so: srun python /home/matteo/anaconda3/envs/borg/lib/python3.8/site- ...\n",
      "GPU available: True (cuda), used: True\n",
      "TPU available: False, using: 0 TPU cores\n",
      "HPU available: False, using: 0 HPUs\n",
      "/home/matteo/anaconda3/envs/borg/lib/python3.8/site-packages/pytorch_lightning/loggers/wandb.py:396: There is a wandb run already in progress and newly created instances of `WandbLogger` will reuse this run. If this is not desired, call `wandb.finish()` before instantiating `WandbLogger`.\n",
      "LOCAL_RANK: 0 - CUDA_VISIBLE_DEVICES: [0,1,2,3]\n",
      "/home/matteo/anaconda3/envs/borg/lib/python3.8/site-packages/torch/optim/lr_scheduler.py:28: UserWarning: The verbose parameter is deprecated. Please use get_last_lr() to access the learning rate.\n",
      "  warnings.warn(\"The verbose parameter is deprecated. Please use get_last_lr() \"\n",
      "\n",
      "  | Name  | Type    | Params | Mode \n",
      "------------------------------------------\n",
      "0 | model | Encoder | 9.7 K  | train\n",
      "------------------------------------------\n",
      "9.7 K     Trainable params\n",
      "0         Non-trainable params\n",
      "9.7 K     Total params\n",
      "0.039     Total estimated model params size (MB)\n",
      "7         Modules in train mode\n",
      "0         Modules in eval mode\n"
     ]
    },
    {
     "name": "stdout",
     "output_type": "stream",
     "text": [
      "Sanity Checking: |          | 0/? [00:00<?, ?it/s]"
     ]
    },
    {
     "name": "stderr",
     "output_type": "stream",
     "text": [
      "/home/matteo/anaconda3/envs/borg/lib/python3.8/site-packages/pytorch_lightning/trainer/connectors/data_connector.py:424: The 'val_dataloader' does not have many workers which may be a bottleneck. Consider increasing the value of the `num_workers` argument` to `num_workers=255` in the `DataLoader` to improve performance.\n"
     ]
    },
    {
     "name": "stdout",
     "output_type": "stream",
     "text": [
      "                                                                            "
     ]
    },
    {
     "name": "stderr",
     "output_type": "stream",
     "text": [
      "/home/matteo/anaconda3/envs/borg/lib/python3.8/site-packages/pytorch_lightning/trainer/connectors/data_connector.py:424: The 'train_dataloader' does not have many workers which may be a bottleneck. Consider increasing the value of the `num_workers` argument` to `num_workers=255` in the `DataLoader` to improve performance.\n",
      "/home/matteo/anaconda3/envs/borg/lib/python3.8/site-packages/pytorch_lightning/loops/fit_loop.py:298: The number of training batches (31) is smaller than the logging interval Trainer(log_every_n_steps=50). Set a lower value for log_every_n_steps if you want to see logs for the training epoch.\n"
     ]
    },
    {
     "name": "stdout",
     "output_type": "stream",
     "text": [
      "Epoch 0: 100%|██████████| 31/31 [00:04<00:00,  6.42it/s, v_num=9pet, train_loss_step=5.080, val_loss=5.610, val_mse_loss=1.790, val_cosine_similarity=0.0861, train_loss_epoch=5.930]"
     ]
    },
    {
     "name": "stderr",
     "output_type": "stream",
     "text": [
      "Metric val_loss improved. New best score: 5.609\n"
     ]
    },
    {
     "name": "stdout",
     "output_type": "stream",
     "text": [
      "Epoch 1: 100%|██████████| 31/31 [00:04<00:00,  6.68it/s, v_num=9pet, train_loss_step=4.630, val_loss=5.380, val_mse_loss=1.710, val_cosine_similarity=0.125, train_loss_epoch=5.320] "
     ]
    },
    {
     "name": "stderr",
     "output_type": "stream",
     "text": [
      "Metric val_loss improved by 0.228 >= min_delta = 0.0. New best score: 5.381\n"
     ]
    },
    {
     "name": "stdout",
     "output_type": "stream",
     "text": [
      "Epoch 2: 100%|██████████| 31/31 [00:04<00:00,  6.65it/s, v_num=9pet, train_loss_step=4.330, val_loss=5.250, val_mse_loss=1.670, val_cosine_similarity=0.145, train_loss_epoch=4.980]"
     ]
    },
    {
     "name": "stderr",
     "output_type": "stream",
     "text": [
      "Metric val_loss improved by 0.127 >= min_delta = 0.0. New best score: 5.254\n"
     ]
    },
    {
     "name": "stdout",
     "output_type": "stream",
     "text": [
      "Epoch 3: 100%|██████████| 31/31 [00:04<00:00,  6.51it/s, v_num=9pet, train_loss_step=4.150, val_loss=5.170, val_mse_loss=1.650, val_cosine_similarity=0.157, train_loss_epoch=4.730]"
     ]
    },
    {
     "name": "stderr",
     "output_type": "stream",
     "text": [
      "Metric val_loss improved by 0.085 >= min_delta = 0.0. New best score: 5.169\n"
     ]
    },
    {
     "name": "stdout",
     "output_type": "stream",
     "text": [
      "Epoch 4: 100%|██████████| 31/31 [00:03<00:00,  8.44it/s, v_num=9pet, train_loss_step=3.860, val_loss=5.110, val_mse_loss=1.630, val_cosine_similarity=0.165, train_loss_epoch=4.510]"
     ]
    },
    {
     "name": "stderr",
     "output_type": "stream",
     "text": [
      "Metric val_loss improved by 0.062 >= min_delta = 0.0. New best score: 5.107\n"
     ]
    },
    {
     "name": "stdout",
     "output_type": "stream",
     "text": [
      "Epoch 5: 100%|██████████| 31/31 [00:03<00:00,  8.28it/s, v_num=9pet, train_loss_step=3.630, val_loss=5.060, val_mse_loss=1.620, val_cosine_similarity=0.170, train_loss_epoch=4.310]"
     ]
    },
    {
     "name": "stderr",
     "output_type": "stream",
     "text": [
      "Metric val_loss improved by 0.043 >= min_delta = 0.0. New best score: 5.064\n"
     ]
    },
    {
     "name": "stdout",
     "output_type": "stream",
     "text": [
      "Epoch 6: 100%|██████████| 31/31 [00:03<00:00,  7.77it/s, v_num=9pet, train_loss_step=3.540, val_loss=5.030, val_mse_loss=1.620, val_cosine_similarity=0.174, train_loss_epoch=4.130]"
     ]
    },
    {
     "name": "stderr",
     "output_type": "stream",
     "text": [
      "Metric val_loss improved by 0.033 >= min_delta = 0.0. New best score: 5.031\n"
     ]
    },
    {
     "name": "stdout",
     "output_type": "stream",
     "text": [
      "Epoch 7: 100%|██████████| 31/31 [00:04<00:00,  7.25it/s, v_num=9pet, train_loss_step=3.370, val_loss=5.010, val_mse_loss=1.610, val_cosine_similarity=0.175, train_loss_epoch=3.970]"
     ]
    },
    {
     "name": "stderr",
     "output_type": "stream",
     "text": [
      "Metric val_loss improved by 0.020 >= min_delta = 0.0. New best score: 5.011\n"
     ]
    },
    {
     "name": "stdout",
     "output_type": "stream",
     "text": [
      "Epoch 8: 100%|██████████| 31/31 [00:04<00:00,  7.44it/s, v_num=9pet, train_loss_step=3.250, val_loss=4.990, val_mse_loss=1.610, val_cosine_similarity=0.177, train_loss_epoch=3.820]"
     ]
    },
    {
     "name": "stderr",
     "output_type": "stream",
     "text": [
      "Metric val_loss improved by 0.018 >= min_delta = 0.0. New best score: 4.993\n"
     ]
    },
    {
     "name": "stdout",
     "output_type": "stream",
     "text": [
      "Epoch 9: 100%|██████████| 31/31 [00:03<00:00,  7.93it/s, v_num=9pet, train_loss_step=3.090, val_loss=4.990, val_mse_loss=1.610, val_cosine_similarity=0.177, train_loss_epoch=3.690]"
     ]
    },
    {
     "name": "stderr",
     "output_type": "stream",
     "text": [
      "Metric val_loss improved by 0.007 >= min_delta = 0.0. New best score: 4.986\n"
     ]
    },
    {
     "name": "stdout",
     "output_type": "stream",
     "text": [
      "Epoch 10: 100%|██████████| 31/31 [00:03<00:00,  7.99it/s, v_num=9pet, train_loss_step=3.020, val_loss=4.980, val_mse_loss=1.610, val_cosine_similarity=0.177, train_loss_epoch=3.570]"
     ]
    },
    {
     "name": "stderr",
     "output_type": "stream",
     "text": [
      "Metric val_loss improved by 0.008 >= min_delta = 0.0. New best score: 4.978\n"
     ]
    },
    {
     "name": "stdout",
     "output_type": "stream",
     "text": [
      "Epoch 11: 100%|██████████| 31/31 [00:03<00:00,  8.49it/s, v_num=9pet, train_loss_step=2.910, val_loss=4.980, val_mse_loss=1.610, val_cosine_similarity=0.176, train_loss_epoch=3.460]"
     ]
    },
    {
     "name": "stderr",
     "output_type": "stream",
     "text": [
      "Metric val_loss improved by 0.001 >= min_delta = 0.0. New best score: 4.977\n"
     ]
    },
    {
     "name": "stdout",
     "output_type": "stream",
     "text": [
      "Epoch 12: 100%|██████████| 31/31 [00:03<00:00,  7.85it/s, v_num=9pet, train_loss_step=2.840, val_loss=4.970, val_mse_loss=1.610, val_cosine_similarity=0.176, train_loss_epoch=3.360]"
     ]
    },
    {
     "name": "stderr",
     "output_type": "stream",
     "text": [
      "Metric val_loss improved by 0.005 >= min_delta = 0.0. New best score: 4.972\n"
     ]
    },
    {
     "name": "stdout",
     "output_type": "stream",
     "text": [
      "Epoch 13: 100%|██████████| 31/31 [00:04<00:00,  7.67it/s, v_num=9pet, train_loss_step=2.650, val_loss=4.980, val_mse_loss=1.610, val_cosine_similarity=0.174, train_loss_epoch=3.270]"
     ]
    },
    {
     "name": "stderr",
     "output_type": "stream",
     "text": [
      "Monitored metric val_loss did not improve in the last 1 records. Best score: 4.972. Signaling Trainer to stop.\n"
     ]
    },
    {
     "name": "stdout",
     "output_type": "stream",
     "text": [
      "Epoch 13: 100%|██████████| 31/31 [00:04<00:00,  7.66it/s, v_num=9pet, train_loss_step=2.650, val_loss=4.980, val_mse_loss=1.610, val_cosine_similarity=0.174, train_loss_epoch=3.270]\n"
     ]
    }
   ],
   "source": [
    "brain_model = ContrastiveModel(num_input_channels= 10000,\n",
    "                                base_channel_size=base_channel_size, \n",
    "                                hidden_dims=hidden_dims,\n",
    "                                latent_dim=latent_dim,\n",
    "                                act_fn=act_fn,\n",
    "                                loss_type=loss_type,\n",
    "                                lr = lr,\n",
    "                                wd = wd,\n",
    "                                alpha=alpha)\n",
    "\n",
    "# Set up early stopping to monitor 'val_loss'\n",
    "early_stop_callback = EarlyStopping(monitor='val_loss', patience=1,verbose=True, mode='min')             # 'min' because we want to minimize val_loss\n",
    "wandb_logger = WandbLogger()  # Logs the model and metrics to wandb\n",
    "\n",
    "\n",
    "# Set up early stopping to monitor 'val_loss'\n",
    "early_stop_callback = EarlyStopping(monitor='val_loss', patience=1,verbose=True, mode='min')             # 'min' because we want to minimize val_loss\n",
    "wandb_logger = WandbLogger()  # Logs the model and metrics to wandb\n",
    "\n",
    "\n",
    "# Create a unique checkpoint directory based on the run name or ID\n",
    "run_name = wandb.run.name or wandb.run.id  # Use run name if available, otherwise use run ID\n",
    "checkpoint_dir = os.path.join(data_path, \"models_augmented\", run_name)\n",
    "os.makedirs(checkpoint_dir, exist_ok=True)\n",
    "\n",
    "# Model checkpoint configuration\n",
    "checkpoint_callback = ModelCheckpoint(monitor='val_loss',dirpath=checkpoint_dir,filename='brain_model_AUGMENTED-{epoch:02d}-{val_loss:.2f}',save_top_k=3,mode='min',)\n",
    "\n",
    "\n",
    "# Initialize trainer with logger\n",
    "\n",
    "trainer = pl.Trainer(max_epochs=20, devices=[1], callbacks=[early_stop_callback,checkpoint_callback],logger=wandb_logger ) # Add the wandb logger here\n",
    "\n",
    "trainer.fit(brain_model, train_loader, val_loader)"
   ]
  },
  {
   "cell_type": "code",
   "execution_count": 65,
   "metadata": {},
   "outputs": [
    {
     "data": {
      "image/png": "[encoded data removed]",
      "text/plain": [
       "<Figure size 640x480 with 1 Axes>"
      ]
     },
     "metadata": {},
     "output_type": "display_data"
    },
    {
     "data": {
      "text/plain": [
       "<Figure size 640x480 with 0 Axes>"
      ]
     },
     "metadata": {},
     "output_type": "display_data"
    }
   ],
   "source": [
    "## plot the losses\n",
    "output_path = \"/home/matteo/storage/brain_tuning/\"\n",
    "\n",
    "plt.plot(brain_model.train_history['train_loss'], label='train_loss')\n",
    "plt.plot(brain_model.val_history['val_loss'][:-1], label='val_loss')\n",
    "plt.legend()\n",
    "plt.xlabel('Epoch')\n",
    "plt.ylabel('Loss')\n",
    "plt.title('Losses')\n",
    "\n",
    "plt.show()\n",
    "\n",
    "## save the plot\n",
    "plt.savefig(opj(output_path, \"losses_augmented.png\"))"
   ]
  },
  {
   "cell_type": "code",
   "execution_count": 66,
   "metadata": {},
   "outputs": [],
   "source": [
    "# from image_evaluation import *\n",
    "# import importlib\n",
    "# import image_evaluation\n",
    "# importlib.reload(image_evaluation)\n",
    "from image_evaluation import *\n"
   ]
  },
  {
   "cell_type": "markdown",
   "metadata": {},
   "source": [
    "## Evaluation"
   ]
  },
  {
   "cell_type": "code",
   "execution_count": 67,
   "metadata": {},
   "outputs": [
    {
     "name": "stderr",
     "output_type": "stream",
     "text": [
      "100%|██████████| 6/6 [00:04<00:00,  1.32it/s]\n"
     ]
    },
    {
     "name": "stdout",
     "output_type": "stream",
     "text": [
      "Starting evaluation...\n",
      "Evaluating metrics for subject 1...\n",
      "Computed similarity matrix for subject 1.\n",
      "Top-1 Accuracy: 0.0532, Top-5 Accuracy: 0.1584 for subject 1.\n",
      "Identification accuracy for subject 1: 0.8986\n",
      "Logged top-5 retrievals for subject 1.\n",
      "Evaluating metrics for subject 2...\n",
      "Computed similarity matrix for subject 2.\n",
      "Top-1 Accuracy: 0.0292, Top-5 Accuracy: 0.0887 for subject 2.\n",
      "Identification accuracy for subject 2: 0.8654\n",
      "Logged top-5 retrievals for subject 2.\n",
      "Evaluating metrics for subject 3...\n",
      "Computed similarity matrix for subject 3.\n",
      "Top-1 Accuracy: 0.0253, Top-5 Accuracy: 0.0963 for subject 3.\n",
      "Identification accuracy for subject 3: 0.8584\n",
      "Logged top-5 retrievals for subject 3.\n",
      "Evaluating metrics for subject 4...\n",
      "Computed similarity matrix for subject 4.\n",
      "Top-1 Accuracy: 0.0300, Top-5 Accuracy: 0.0985 for subject 4.\n",
      "Identification accuracy for subject 4: 0.8465\n",
      "Logged top-5 retrievals for subject 4.\n",
      "Evaluation complete. Results loaded to wandb.\n"
     ]
    }
   ],
   "source": [
    "results_df, similarity_matrices, results = evaluate_and_log(test_loader,brain_model)\n"
   ]
  },
  {
   "cell_type": "code",
   "execution_count": 68,
   "metadata": {},
   "outputs": [
    {
     "data": {
      "text/html": [
       "<div>\n",
       "<style scoped>\n",
       "    .dataframe tbody tr th:only-of-type {\n",
       "        vertical-align: middle;\n",
       "    }\n",
       "\n",
       "    .dataframe tbody tr th {\n",
       "        vertical-align: top;\n",
       "    }\n",
       "\n",
       "    .dataframe thead th {\n",
       "        text-align: right;\n",
       "    }\n",
       "</style>\n",
       "<table border=\"1\" class=\"dataframe\">\n",
       "  <thead>\n",
       "    <tr style=\"text-align: right;\">\n",
       "      <th></th>\n",
       "      <th>Subject</th>\n",
       "      <th>Identification Accuracy (%)</th>\n",
       "      <th>ID Accuracy Baseline (%)</th>\n",
       "      <th>Top-1 Accuracy (%)</th>\n",
       "      <th>Top1 Baseline (%)</th>\n",
       "      <th>Top1 Improvement Over Baseline</th>\n",
       "      <th>Top-5 Accuracy (%)</th>\n",
       "      <th>Top5 Baseline (%)</th>\n",
       "      <th>Top5 Improvement Over Baseline</th>\n",
       "    </tr>\n",
       "  </thead>\n",
       "  <tbody>\n",
       "    <tr>\n",
       "      <th>0</th>\n",
       "      <td>1</td>\n",
       "      <td>89.858653</td>\n",
       "      <td>50</td>\n",
       "      <td>5.323194</td>\n",
       "      <td>0.126743</td>\n",
       "      <td>42.0</td>\n",
       "      <td>15.842839</td>\n",
       "      <td>0.633714</td>\n",
       "      <td>25.0</td>\n",
       "    </tr>\n",
       "    <tr>\n",
       "      <th>1</th>\n",
       "      <td>2</td>\n",
       "      <td>86.544202</td>\n",
       "      <td>50</td>\n",
       "      <td>2.915082</td>\n",
       "      <td>0.126743</td>\n",
       "      <td>23.0</td>\n",
       "      <td>8.871990</td>\n",
       "      <td>0.633714</td>\n",
       "      <td>14.0</td>\n",
       "    </tr>\n",
       "    <tr>\n",
       "      <th>2</th>\n",
       "      <td>3</td>\n",
       "      <td>85.841327</td>\n",
       "      <td>50</td>\n",
       "      <td>2.534854</td>\n",
       "      <td>0.126743</td>\n",
       "      <td>20.0</td>\n",
       "      <td>9.632446</td>\n",
       "      <td>0.633714</td>\n",
       "      <td>15.2</td>\n",
       "    </tr>\n",
       "    <tr>\n",
       "      <th>3</th>\n",
       "      <td>4</td>\n",
       "      <td>84.650449</td>\n",
       "      <td>50</td>\n",
       "      <td>2.997859</td>\n",
       "      <td>0.214133</td>\n",
       "      <td>14.0</td>\n",
       "      <td>9.850107</td>\n",
       "      <td>1.070664</td>\n",
       "      <td>9.2</td>\n",
       "    </tr>\n",
       "  </tbody>\n",
       "</table>\n",
       "</div>"
      ],
      "text/plain": [
       "   Subject  Identification Accuracy (%)  ID Accuracy Baseline (%)  \\\n",
       "0        1                    89.858653                        50   \n",
       "1        2                    86.544202                        50   \n",
       "2        3                    85.841327                        50   \n",
       "3        4                    84.650449                        50   \n",
       "\n",
       "   Top-1 Accuracy (%)  Top1 Baseline (%)  Top1 Improvement Over Baseline  \\\n",
       "0            5.323194           0.126743                            42.0   \n",
       "1            2.915082           0.126743                            23.0   \n",
       "2            2.534854           0.126743                            20.0   \n",
       "3            2.997859           0.214133                            14.0   \n",
       "\n",
       "   Top-5 Accuracy (%)  Top5 Baseline (%)  Top5 Improvement Over Baseline  \n",
       "0           15.842839           0.633714                            25.0  \n",
       "1            8.871990           0.633714                            14.0  \n",
       "2            9.632446           0.633714                            15.2  \n",
       "3            9.850107           1.070664                             9.2  "
      ]
     },
     "execution_count": 68,
     "metadata": {},
     "output_type": "execute_result"
    }
   ],
   "source": [
    "results_df"
   ]
  },
  {
   "cell_type": "code",
   "execution_count": 70,
   "metadata": {},
   "outputs": [],
   "source": [
    "## save the results\n",
    "results_df.to_csv(opj(output_path,\"results_image_augmented_contrastive.csv\"))"
   ]
  }
 ],
 "metadata": {
  "kernelspec": {
   "display_name": "borg",
   "language": "python",
   "name": "python3"
  },
  "language_info": {
   "codemirror_mode": {
    "name": "ipython",
    "version": 3
   },
   "file_extension": ".py",
   "mimetype": "text/x-python",
   "name": "python",
   "nbconvert_exporter": "python",
   "pygments_lexer": "ipython3",
   "version": "3.8.0"
  }
 },
 "nbformat": 4,
 "nbformat_minor": 2
}
