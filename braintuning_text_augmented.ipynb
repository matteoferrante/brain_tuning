{
 "cells": [
  {
   "cell_type": "code",
   "execution_count": 1,
   "metadata": {},
   "outputs": [
    {
     "name": "stderr",
     "output_type": "stream",
     "text": [
      "/home/matteo/anaconda3/envs/borg/lib/python3.8/site-packages/tqdm/auto.py:21: TqdmWarning: IProgress not found. Please update jupyter and ipywidgets. See https://ipywidgets.readthedocs.io/en/stable/user_install.html\n",
      "  from .autonotebook import tqdm as notebook_tqdm\n"
     ]
    }
   ],
   "source": [
    "import numpy as np\n",
    "import nibabel as nib\n",
    "import nilearn \n",
    "import matplotlib.pyplot as plt\n",
    "import os\n",
    "from os.path import join as opj\n",
    "import pandas as pd\n",
    "import seaborn as sns\n",
    "import glob\n",
    "from nilearn import plotting\n",
    "from nilearn.image import *\n",
    "import tqdm\n",
    "from PIL import Image\n",
    "from sklearn.model_selection import train_test_split\n",
    "from nilearn.plotting import plot_stat_map\n",
    "from nilearn.image import mean_img\n",
    "from nilearn.plotting import plot_img, plot_epi\n",
    "from nilearn.maskers import NiftiMasker\n",
    "from sklearn.preprocessing import StandardScaler\n",
    "import wandb\n",
    "import pickle\n",
    "from torch.utils.data import Dataset, DataLoader\n",
    "from dataset import fMRI_Dataset, fMRI_Text_Dataset, fMRI_Augmentation_Dataset\n",
    "import torch\n",
    "from torch import nn\n",
    "from pytorch_lightning.callbacks import EarlyStopping,ModelCheckpoint\n",
    "\n",
    "from pytorch_lightning.loggers import WandbLogger\n",
    "from network import Encoder, ContrastiveModel\n",
    "import torch\n",
    "import torch.nn as nn\n",
    "import pytorch_lightning as pl"
   ]
  },
  {
   "cell_type": "code",
   "execution_count": 2,
   "metadata": {},
   "outputs": [
    {
     "name": "stderr",
     "output_type": "stream",
     "text": [
      "Failed to detect the name of this notebook, you can set it manually with the WANDB_NOTEBOOK_NAME environment variable to enable code saving.\n",
      "\u001b[34m\u001b[1mwandb\u001b[0m: Currently logged in as: \u001b[33mmatteoferrante\u001b[0m. Use \u001b[1m`wandb login --relogin`\u001b[0m to force relogin\n"
     ]
    },
    {
     "data": {
      "text/html": [
       "Tracking run with wandb version 0.17.9"
      ],
      "text/plain": [
       "<IPython.core.display.HTML object>"
      ]
     },
     "metadata": {},
     "output_type": "display_data"
    },
    {
     "data": {
      "text/html": [
       "Run data is saved locally in <code>/home/matteo/brain_tuning/wandb/run-20241031_143553-f40mndgb</code>"
      ],
      "text/plain": [
       "<IPython.core.display.HTML object>"
      ]
     },
     "metadata": {},
     "output_type": "display_data"
    },
    {
     "data": {
      "text/html": [
       "Syncing run <strong><a href='https://wandb.ai/matteoferrante/BrainTuning/runs/f40mndgb' target=\"_blank\">shadowed-specter-17</a></strong> to <a href='https://wandb.ai/matteoferrante/BrainTuning' target=\"_blank\">Weights & Biases</a> (<a href='https://wandb.me/run' target=\"_blank\">docs</a>)<br/>"
      ],
      "text/plain": [
       "<IPython.core.display.HTML object>"
      ]
     },
     "metadata": {},
     "output_type": "display_data"
    },
    {
     "data": {
      "text/html": [
       " View project at <a href='https://wandb.ai/matteoferrante/BrainTuning' target=\"_blank\">https://wandb.ai/matteoferrante/BrainTuning</a>"
      ],
      "text/plain": [
       "<IPython.core.display.HTML object>"
      ]
     },
     "metadata": {},
     "output_type": "display_data"
    },
    {
     "data": {
      "text/html": [
       " View run at <a href='https://wandb.ai/matteoferrante/BrainTuning/runs/f40mndgb' target=\"_blank\">https://wandb.ai/matteoferrante/BrainTuning/runs/f40mndgb</a>"
      ],
      "text/plain": [
       "<IPython.core.display.HTML object>"
      ]
     },
     "metadata": {},
     "output_type": "display_data"
    },
    {
     "data": {
      "text/html": [
       "<button onClick=\"this.nextSibling.style.display='block';this.style.display='none';\">Display W&B run</button><iframe src='https://wandb.ai/matteoferrante/BrainTuning/runs/f40mndgb?jupyter=true' style='border:none;width:100%;height:420px;display:none;'></iframe>"
      ],
      "text/plain": [
       "<wandb.sdk.wandb_run.Run at 0x7168b5b68e50>"
      ]
     },
     "execution_count": 2,
     "metadata": {},
     "output_type": "execute_result"
    }
   ],
   "source": [
    "wandb.login()\n",
    "wandb.init(project=\"BrainTuning\",config={\"model\":\"best_text_model\", \"augmentations\":True})"
   ]
  },
  {
   "cell_type": "code",
   "execution_count": 3,
   "metadata": {},
   "outputs": [
    {
     "name": "stderr",
     "output_type": "stream",
     "text": [
      "  0%|          | 0/4 [00:00<?, ?it/s]"
     ]
    },
    {
     "name": "stdout",
     "output_type": "stream",
     "text": [
      "Using augmentations\n"
     ]
    },
    {
     "name": "stderr",
     "output_type": "stream",
     "text": [
      " 25%|██▌       | 1/4 [00:20<01:02, 20.77s/it]"
     ]
    },
    {
     "name": "stdout",
     "output_type": "stream",
     "text": [
      "Using augmentations\n"
     ]
    },
    {
     "name": "stderr",
     "output_type": "stream",
     "text": [
      " 50%|█████     | 2/4 [00:24<00:21, 10.90s/it]"
     ]
    },
    {
     "name": "stdout",
     "output_type": "stream",
     "text": [
      "Using augmentations\n"
     ]
    },
    {
     "name": "stderr",
     "output_type": "stream",
     "text": [
      " 75%|███████▌  | 3/4 [00:26<00:06,  6.77s/it]"
     ]
    },
    {
     "name": "stdout",
     "output_type": "stream",
     "text": [
      "Using augmentations\n"
     ]
    },
    {
     "name": "stderr",
     "output_type": "stream",
     "text": [
      "100%|██████████| 4/4 [00:28<00:00,  7.05s/it]\n"
     ]
    }
   ],
   "source": [
    "## load the data\n",
    "\n",
    "train_datasets=[]\n",
    "val_datasets=[]\n",
    "test_datasets=[]\n",
    "\n",
    "aumentation_N = 500\n",
    "\n",
    "\n",
    "for subj in tqdm.tqdm([\"CSI1\",\"CSI2\",\"CSI3\",\"CSI4\"]):\n",
    "\n",
    "    subj_id = int(subj.split(\"CSI\")[1])\n",
    "\n",
    "    data_path =  f\"/home/matteo/storage/brain_tuning/{subj}\"\n",
    "\n",
    "    train_fmri = np.load(opj(data_path, \"TEXT_train_fmri_top.npy\"))\n",
    "    val_fmri = np.load(opj(data_path, \"TEXT_val_fmri_top.npy\"))\n",
    "    test_fmri = np.load(opj(data_path, \"TEXT_test_fmri_top.npy\"))\n",
    "\n",
    "    ##load the captions\n",
    "    train_captions = np.load(opj(data_path, \"train_captions.npy\"),allow_pickle=True)\n",
    "    val_captions = np.load(opj(data_path, \"val_captions.npy\"),allow_pickle=True)\n",
    "    test_captions = np.load(opj(data_path, \"test_captions.npy\"),allow_pickle=True)\n",
    "\n",
    "    ## load the features\n",
    "    train_features = np.load(opj(data_path, \"train_text_features.npy\"))\n",
    "    val_features = np.load(opj(data_path, \"val_text_features.npy\"))\n",
    "    test_features = np.load(opj(data_path, \"test_text_features.npy\"))\n",
    "\n",
    "    print(\"Using augmentations\")\n",
    "    ## load the augmentations\n",
    "    train_augmentations = np.load(opj(data_path, \"TEXT_augmented_brain.npy\"))[:aumentation_N]\n",
    "    \n",
    "    # add a small noise to the augmentations\n",
    "    train_augmentations = train_augmentations + np.random.normal(0,0.8,train_augmentations.shape)\n",
    "\n",
    "    ## force the augmentations to have the same mean and std as the original fmri\n",
    "    train_augmentations = train_augmentations - train_augmentations.mean(0)\n",
    "    train_augmentations = train_augmentations/train_augmentations.std(0)\n",
    "    train_augmentations = train_augmentations*train_fmri.std(0)\n",
    "    train_augmentations = train_augmentations + train_fmri.mean(0)\n",
    "     #set dtype to float32\n",
    "    train_augmentations = train_augmentations.astype(np.float32)\n",
    "\n",
    "    #load the augmented features\n",
    "    train_augmented_features = np.load(\"/home/matteo/storage/brain_tuning/clean_augment_text_features.npy\")[:aumentation_N]\n",
    "\n",
    "    #concatenate the augmented and the original features\n",
    "    train_fmri = np.concatenate([train_augmentations,train_fmri])\n",
    "    train_features = np.concatenate([train_augmented_features,train_features])\n",
    "\n",
    "    ## create the dataset\n",
    "    train_dataset = fMRI_Augmentation_Dataset(train_fmri,train_features,subj_id) #no imags here, just features\n",
    "\n",
    "    ## create the dataset\n",
    "    val_dataset = fMRI_Text_Dataset(val_fmri,val_captions,val_features,subj_id)\n",
    "    test_dataset = fMRI_Text_Dataset(test_fmri,test_captions,test_features,subj_id)\n",
    "\n",
    "    ## append the datasets\n",
    "    train_datasets.append(train_dataset)\n",
    "    val_datasets.append(val_dataset)\n",
    "    test_datasets.append(test_dataset)\n",
    "\n",
    "\n",
    "\n"
   ]
  },
  {
   "cell_type": "code",
   "execution_count": 4,
   "metadata": {},
   "outputs": [],
   "source": [
    "## Concatenate the datasets\n",
    "train_dataset = torch.utils.data.ConcatDataset(train_datasets)\n",
    "val_dataset = torch.utils.data.ConcatDataset(val_datasets)\n",
    "test_dataset = torch.utils.data.ConcatDataset(test_datasets)\n"
   ]
  },
  {
   "cell_type": "code",
   "execution_count": 5,
   "metadata": {},
   "outputs": [],
   "source": [
    "BATCH_SIZE = 512\n",
    "train_loader = DataLoader(train_dataset, batch_size=BATCH_SIZE, shuffle=True)\n",
    "val_loader = DataLoader(val_dataset, batch_size=BATCH_SIZE, shuffle=True)\n",
    "test_loader = DataLoader(test_dataset, batch_size=BATCH_SIZE, shuffle=True)"
   ]
  },
  {
   "cell_type": "code",
   "execution_count": 6,
   "metadata": {},
   "outputs": [],
   "source": [
    "## optimal parameter obtained from the hyperparameter search\n",
    "\n",
    "act_fn = nn.Identity\n",
    "base_channel_size = [2048]\n",
    "hidden_dims = [1024]\n",
    "latent_dim = 512\n",
    "\n",
    "loss_type = \"contrastive\"\n",
    "lr = 1e-4\n",
    "temperature = 0.1\n",
    "wd = 1e-5\n",
    "alpha = 0.8"
   ]
  },
  {
   "cell_type": "code",
   "execution_count": 7,
   "metadata": {},
   "outputs": [
    {
     "name": "stderr",
     "output_type": "stream",
     "text": [
      "/home/matteo/anaconda3/envs/borg/lib/python3.8/site-packages/torch/nn/modules/lazy.py:181: UserWarning: Lazy modules are a new feature under heavy development so changes to the API or functionality can happen at any moment.\n",
      "  warnings.warn('Lazy modules are a new feature under heavy development '\n",
      "/home/matteo/anaconda3/envs/borg/lib/python3.8/site-packages/lightning_fabric/plugins/environments/slurm.py:204: The `srun` command is available on your system but is not used. HINT: If your intention is to run Lightning on SLURM, prepend your python command with `srun` like so: srun python /home/matteo/anaconda3/envs/borg/lib/python3.8/site- ...\n",
      "GPU available: True (cuda), used: True\n",
      "TPU available: False, using: 0 TPU cores\n",
      "HPU available: False, using: 0 HPUs\n",
      "You are using a CUDA device ('NVIDIA H100 PCIe') that has Tensor Cores. To properly utilize them, you should set `torch.set_float32_matmul_precision('medium' | 'high')` which will trade-off precision for performance. For more details, read https://pytorch.org/docs/stable/generated/torch.set_float32_matmul_precision.html#torch.set_float32_matmul_precision\n",
      "/home/matteo/anaconda3/envs/borg/lib/python3.8/site-packages/pytorch_lightning/loggers/wandb.py:396: There is a wandb run already in progress and newly created instances of `WandbLogger` will reuse this run. If this is not desired, call `wandb.finish()` before instantiating `WandbLogger`.\n",
      "LOCAL_RANK: 0 - CUDA_VISIBLE_DEVICES: [0,1,2,3]\n",
      "/home/matteo/anaconda3/envs/borg/lib/python3.8/site-packages/torch/optim/lr_scheduler.py:28: UserWarning: The verbose parameter is deprecated. Please use get_last_lr() to access the learning rate.\n",
      "  warnings.warn(\"The verbose parameter is deprecated. Please use get_last_lr() \"\n",
      "/home/matteo/anaconda3/envs/borg/lib/python3.8/site-packages/pytorch_lightning/utilities/model_summary/model_summary.py:477: The total number of parameters detected may be inaccurate because the model contains an instance of `UninitializedParameter`. To get an accurate number, set `self.example_input_array` in your LightningModule.\n",
      "\n",
      "  | Name  | Type    | Params | Mode \n",
      "------------------------------------------\n",
      "0 | model | Encoder | 9.2 K  | train\n",
      "------------------------------------------\n",
      "9.2 K     Trainable params\n",
      "0         Non-trainable params\n",
      "9.2 K     Total params\n",
      "0.037     Total estimated model params size (MB)\n",
      "7         Modules in train mode\n",
      "0         Modules in eval mode\n"
     ]
    },
    {
     "name": "stdout",
     "output_type": "stream",
     "text": [
      "Sanity Checking DataLoader 0:   0%|          | 0/2 [00:00<?, ?it/s]"
     ]
    },
    {
     "name": "stderr",
     "output_type": "stream",
     "text": [
      "/home/matteo/anaconda3/envs/borg/lib/python3.8/site-packages/pytorch_lightning/trainer/connectors/data_connector.py:475: Your `val_dataloader`'s sampler has shuffling enabled, it is strongly recommended that you turn shuffling off for val/test dataloaders.\n",
      "/home/matteo/anaconda3/envs/borg/lib/python3.8/site-packages/pytorch_lightning/trainer/connectors/data_connector.py:424: The 'val_dataloader' does not have many workers which may be a bottleneck. Consider increasing the value of the `num_workers` argument` to `num_workers=255` in the `DataLoader` to improve performance.\n"
     ]
    },
    {
     "name": "stdout",
     "output_type": "stream",
     "text": [
      "                                                                           "
     ]
    },
    {
     "name": "stderr",
     "output_type": "stream",
     "text": [
      "/home/matteo/anaconda3/envs/borg/lib/python3.8/site-packages/pytorch_lightning/utilities/data.py:78: Trying to infer the `batch_size` from an ambiguous collection. The batch size we found is 512. To avoid any miscalculations, use `self.log(..., batch_size=batch_size)`.\n",
      "/home/matteo/anaconda3/envs/borg/lib/python3.8/site-packages/pytorch_lightning/trainer/connectors/data_connector.py:424: The 'train_dataloader' does not have many workers which may be a bottleneck. Consider increasing the value of the `num_workers` argument` to `num_workers=255` in the `DataLoader` to improve performance.\n",
      "/home/matteo/anaconda3/envs/borg/lib/python3.8/site-packages/pytorch_lightning/loops/fit_loop.py:298: The number of training batches (31) is smaller than the logging interval Trainer(log_every_n_steps=50). Set a lower value for log_every_n_steps if you want to see logs for the training epoch.\n"
     ]
    },
    {
     "name": "stdout",
     "output_type": "stream",
     "text": [
      "Epoch 0: 100%|██████████| 31/31 [00:00<00:00, 36.64it/s, v_num=ndgb, train_loss_step=4.910, val_loss=5.450, val_mse_loss=1.780, val_cosine_similarity=0.126, train_loss_epoch=5.800]"
     ]
    },
    {
     "name": "stderr",
     "output_type": "stream",
     "text": [
      "/home/matteo/anaconda3/envs/borg/lib/python3.8/site-packages/pytorch_lightning/utilities/data.py:78: Trying to infer the `batch_size` from an ambiguous collection. The batch size we found is 359. To avoid any miscalculations, use `self.log(..., batch_size=batch_size)`.\n",
      "Metric val_loss improved. New best score: 5.451\n"
     ]
    },
    {
     "name": "stdout",
     "output_type": "stream",
     "text": [
      "Epoch 1: 100%|██████████| 31/31 [00:00<00:00, 42.27it/s, v_num=ndgb, train_loss_step=4.300, val_loss=5.240, val_mse_loss=1.720, val_cosine_similarity=0.154, train_loss_epoch=4.960]"
     ]
    },
    {
     "name": "stderr",
     "output_type": "stream",
     "text": [
      "Metric val_loss improved by 0.207 >= min_delta = 0.0. New best score: 5.243\n"
     ]
    },
    {
     "name": "stdout",
     "output_type": "stream",
     "text": [
      "Epoch 2: 100%|██████████| 31/31 [00:00<00:00, 40.79it/s, v_num=ndgb, train_loss_step=3.890, val_loss=5.140, val_mse_loss=1.690, val_cosine_similarity=0.166, train_loss_epoch=4.500]"
     ]
    },
    {
     "name": "stderr",
     "output_type": "stream",
     "text": [
      "Metric val_loss improved by 0.106 >= min_delta = 0.0. New best score: 5.138\n"
     ]
    },
    {
     "name": "stdout",
     "output_type": "stream",
     "text": [
      "Epoch 3: 100%|██████████| 31/31 [00:00<00:00, 41.27it/s, v_num=ndgb, train_loss_step=3.510, val_loss=5.080, val_mse_loss=1.680, val_cosine_similarity=0.172, train_loss_epoch=4.130]"
     ]
    },
    {
     "name": "stderr",
     "output_type": "stream",
     "text": [
      "Metric val_loss improved by 0.055 >= min_delta = 0.0. New best score: 5.083\n"
     ]
    },
    {
     "name": "stdout",
     "output_type": "stream",
     "text": [
      "Epoch 4: 100%|██████████| 31/31 [00:00<00:00, 41.07it/s, v_num=ndgb, train_loss_step=3.270, val_loss=5.060, val_mse_loss=1.680, val_cosine_similarity=0.173, train_loss_epoch=3.830]"
     ]
    },
    {
     "name": "stderr",
     "output_type": "stream",
     "text": [
      "Metric val_loss improved by 0.023 >= min_delta = 0.0. New best score: 5.059\n"
     ]
    },
    {
     "name": "stdout",
     "output_type": "stream",
     "text": [
      "Epoch 5: 100%|██████████| 31/31 [00:00<00:00, 41.68it/s, v_num=ndgb, train_loss_step=2.960, val_loss=5.050, val_mse_loss=1.680, val_cosine_similarity=0.174, train_loss_epoch=3.580]"
     ]
    },
    {
     "name": "stderr",
     "output_type": "stream",
     "text": [
      "Metric val_loss improved by 0.014 >= min_delta = 0.0. New best score: 5.045\n"
     ]
    },
    {
     "name": "stdout",
     "output_type": "stream",
     "text": [
      "Epoch 6: 100%|██████████| 31/31 [00:00<00:00, 40.98it/s, v_num=ndgb, train_loss_step=2.830, val_loss=5.050, val_mse_loss=1.680, val_cosine_similarity=0.172, train_loss_epoch=3.380]"
     ]
    },
    {
     "name": "stderr",
     "output_type": "stream",
     "text": [
      "Monitored metric val_loss did not improve in the last 1 records. Best score: 5.045. Signaling Trainer to stop.\n"
     ]
    },
    {
     "name": "stdout",
     "output_type": "stream",
     "text": [
      "Epoch 6: 100%|██████████| 31/31 [00:01<00:00, 27.11it/s, v_num=ndgb, train_loss_step=2.830, val_loss=5.050, val_mse_loss=1.680, val_cosine_similarity=0.172, train_loss_epoch=3.380]\n"
     ]
    }
   ],
   "source": [
    "brain_model = ContrastiveModel(num_input_channels= 10000,\n",
    "                                base_channel_size=base_channel_size, \n",
    "                                hidden_dims=hidden_dims,\n",
    "                                latent_dim=latent_dim,\n",
    "                                act_fn=act_fn,\n",
    "                                loss_type=loss_type,\n",
    "                                lr = lr,\n",
    "                                wd = wd,\n",
    "                                alpha=alpha)\n",
    "\n",
    "# Set up early stopping to monitor 'val_loss'\n",
    "early_stop_callback = EarlyStopping(monitor='val_loss', patience=1,verbose=True, mode='min')             # 'min' because we want to minimize val_loss\n",
    "wandb_logger = WandbLogger()  # Logs the model and metrics to wandb\n",
    "\n",
    "\n",
    "# Set up early stopping to monitor 'val_loss'\n",
    "early_stop_callback = EarlyStopping(monitor='val_loss', patience=1,verbose=True, mode='min')             # 'min' because we want to minimize val_loss\n",
    "wandb_logger = WandbLogger()  # Logs the model and metrics to wandb\n",
    "\n",
    "\n",
    "# Create a unique checkpoint directory based on the run name or ID\n",
    "run_name = wandb.run.name or wandb.run.id  # Use run name if available, otherwise use run ID\n",
    "checkpoint_dir = os.path.join(data_path, \"models_augmented\", run_name)\n",
    "os.makedirs(checkpoint_dir, exist_ok=True)\n",
    "\n",
    "# Model checkpoint configuration\n",
    "checkpoint_callback = ModelCheckpoint(monitor='val_loss',dirpath=checkpoint_dir,filename='TEXT_brain_model_AUGMENTED-{epoch:02d}-{val_loss:.2f}',save_top_k=3,mode='min',)\n",
    "\n",
    "\n",
    "# Initialize trainer with logger\n",
    "\n",
    "trainer = pl.Trainer(max_epochs=20, devices=[1], callbacks=[early_stop_callback,checkpoint_callback],logger=wandb_logger ) # Add the wandb logger here\n",
    "\n",
    "trainer.fit(brain_model, train_loader, val_loader)"
   ]
  },
  {
   "cell_type": "code",
   "execution_count": 8,
   "metadata": {},
   "outputs": [],
   "source": [
    "# train_features.shape"
   ]
  },
  {
   "cell_type": "code",
   "execution_count": 9,
   "metadata": {},
   "outputs": [
    {
     "data": {
      "image/png": "[encoded data removed]",
      "text/plain": [
       "<Figure size 640x480 with 1 Axes>"
      ]
     },
     "metadata": {},
     "output_type": "display_data"
    },
    {
     "data": {
      "text/plain": [
       "<Figure size 640x480 with 0 Axes>"
      ]
     },
     "metadata": {},
     "output_type": "display_data"
    }
   ],
   "source": [
    "## plot the losses\n",
    "output_path = \"/home/matteo/storage/brain_tuning/\"\n",
    "\n",
    "plt.plot(brain_model.train_history['train_loss'], label='train_loss')\n",
    "plt.plot(brain_model.val_history['val_loss'][:-1], label='val_loss')\n",
    "plt.legend()\n",
    "plt.xlabel('Epoch')\n",
    "plt.ylabel('Loss')\n",
    "plt.title('Losses')\n",
    "\n",
    "plt.show()\n",
    "\n",
    "## save the plot\n",
    "plt.savefig(opj(output_path, \"text_losses_augmented.png\"))"
   ]
  },
  {
   "cell_type": "code",
   "execution_count": 10,
   "metadata": {},
   "outputs": [],
   "source": [
    "from text_evaluation import *\n"
   ]
  },
  {
   "cell_type": "code",
   "execution_count": 11,
   "metadata": {},
   "outputs": [
    {
     "name": "stderr",
     "output_type": "stream",
     "text": [
      "100%|██████████| 6/6 [00:00<00:00,  7.57it/s]\n"
     ]
    },
    {
     "name": "stdout",
     "output_type": "stream",
     "text": [
      "Starting evaluation...\n",
      "Evaluating metrics for subject 1...\n",
      "Computed similarity matrix for subject 1.\n",
      "Top-1 Accuracy: 0.0215, Top-5 Accuracy: 0.0900 for subject 1.\n",
      "Identification accuracy for subject 1: 0.8491\n",
      "Logged top-5 retrievals for subject 1.\n",
      "Evaluating metrics for subject 2...\n",
      "Computed similarity matrix for subject 2.\n",
      "Top-1 Accuracy: 0.0152, Top-5 Accuracy: 0.0646 for subject 2.\n",
      "Identification accuracy for subject 2: 0.8161\n",
      "Logged top-5 retrievals for subject 2.\n",
      "Evaluating metrics for subject 3...\n",
      "Computed similarity matrix for subject 3.\n",
      "Top-1 Accuracy: 0.0266, Top-5 Accuracy: 0.0697 for subject 3.\n",
      "Identification accuracy for subject 3: 0.8133\n",
      "Logged top-5 retrievals for subject 3.\n",
      "Evaluating metrics for subject 4...\n",
      "Computed similarity matrix for subject 4.\n",
      "Top-1 Accuracy: 0.0171, Top-5 Accuracy: 0.0664 for subject 4.\n",
      "Identification accuracy for subject 4: 0.7759\n",
      "Logged top-5 retrievals for subject 4.\n",
      "Evaluation complete. Results loaded to wandb.\n"
     ]
    }
   ],
   "source": [
    "results_df, similarity_matrices, results = evaluate_and_log(test_loader,brain_model)\n"
   ]
  },
  {
   "cell_type": "code",
   "execution_count": 12,
   "metadata": {},
   "outputs": [
    {
     "data": {
      "text/html": [
       "<div>\n",
       "<style scoped>\n",
       "    .dataframe tbody tr th:only-of-type {\n",
       "        vertical-align: middle;\n",
       "    }\n",
       "\n",
       "    .dataframe tbody tr th {\n",
       "        vertical-align: top;\n",
       "    }\n",
       "\n",
       "    .dataframe thead th {\n",
       "        text-align: right;\n",
       "    }\n",
       "</style>\n",
       "<table border=\"1\" class=\"dataframe\">\n",
       "  <thead>\n",
       "    <tr style=\"text-align: right;\">\n",
       "      <th></th>\n",
       "      <th>Subject</th>\n",
       "      <th>Identification Accuracy (%)</th>\n",
       "      <th>ID Accuracy Baseline (%)</th>\n",
       "      <th>Top-1 Accuracy (%)</th>\n",
       "      <th>Top1 Baseline (%)</th>\n",
       "      <th>Top1 Improvement Over Baseline</th>\n",
       "      <th>Top-5 Accuracy (%)</th>\n",
       "      <th>Top5 Baseline (%)</th>\n",
       "      <th>Top5 Improvement Over Baseline</th>\n",
       "    </tr>\n",
       "  </thead>\n",
       "  <tbody>\n",
       "    <tr>\n",
       "      <th>0</th>\n",
       "      <td>1</td>\n",
       "      <td>84.905876</td>\n",
       "      <td>50</td>\n",
       "      <td>2.154626</td>\n",
       "      <td>0.126743</td>\n",
       "      <td>17.0</td>\n",
       "      <td>8.998733</td>\n",
       "      <td>0.633714</td>\n",
       "      <td>14.2</td>\n",
       "    </tr>\n",
       "    <tr>\n",
       "      <th>1</th>\n",
       "      <td>2</td>\n",
       "      <td>81.605579</td>\n",
       "      <td>50</td>\n",
       "      <td>1.520913</td>\n",
       "      <td>0.126743</td>\n",
       "      <td>12.0</td>\n",
       "      <td>6.463878</td>\n",
       "      <td>0.633714</td>\n",
       "      <td>10.2</td>\n",
       "    </tr>\n",
       "    <tr>\n",
       "      <th>2</th>\n",
       "      <td>3</td>\n",
       "      <td>81.325555</td>\n",
       "      <td>50</td>\n",
       "      <td>2.661597</td>\n",
       "      <td>0.126743</td>\n",
       "      <td>21.0</td>\n",
       "      <td>6.970849</td>\n",
       "      <td>0.633714</td>\n",
       "      <td>11.0</td>\n",
       "    </tr>\n",
       "    <tr>\n",
       "      <th>3</th>\n",
       "      <td>4</td>\n",
       "      <td>77.591879</td>\n",
       "      <td>50</td>\n",
       "      <td>1.713062</td>\n",
       "      <td>0.214133</td>\n",
       "      <td>8.0</td>\n",
       "      <td>6.638116</td>\n",
       "      <td>1.070664</td>\n",
       "      <td>6.2</td>\n",
       "    </tr>\n",
       "  </tbody>\n",
       "</table>\n",
       "</div>"
      ],
      "text/plain": [
       "   Subject  Identification Accuracy (%)  ID Accuracy Baseline (%)  \\\n",
       "0        1                    84.905876                        50   \n",
       "1        2                    81.605579                        50   \n",
       "2        3                    81.325555                        50   \n",
       "3        4                    77.591879                        50   \n",
       "\n",
       "   Top-1 Accuracy (%)  Top1 Baseline (%)  Top1 Improvement Over Baseline  \\\n",
       "0            2.154626           0.126743                            17.0   \n",
       "1            1.520913           0.126743                            12.0   \n",
       "2            2.661597           0.126743                            21.0   \n",
       "3            1.713062           0.214133                             8.0   \n",
       "\n",
       "   Top-5 Accuracy (%)  Top5 Baseline (%)  Top5 Improvement Over Baseline  \n",
       "0            8.998733           0.633714                            14.2  \n",
       "1            6.463878           0.633714                            10.2  \n",
       "2            6.970849           0.633714                            11.0  \n",
       "3            6.638116           1.070664                             6.2  "
      ]
     },
     "execution_count": 12,
     "metadata": {},
     "output_type": "execute_result"
    }
   ],
   "source": [
    "results_df"
   ]
  },
  {
   "cell_type": "code",
   "execution_count": 14,
   "metadata": {},
   "outputs": [],
   "source": [
    "results_df.to_csv(opj(output_path,\"results_text_augmented_contrastive.csv\"))"
   ]
  }
 ],
 "metadata": {
  "kernelspec": {
   "display_name": "borg",
   "language": "python",
   "name": "python3"
  },
  "language_info": {
   "codemirror_mode": {
    "name": "ipython",
    "version": 3
   },
   "file_extension": ".py",
   "mimetype": "text/x-python",
   "name": "python",
   "nbconvert_exporter": "python",
   "pygments_lexer": "ipython3",
   "version": "3.8.0"
  }
 },
 "nbformat": 4,
 "nbformat_minor": 2
}
